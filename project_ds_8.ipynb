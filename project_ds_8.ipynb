{
 "cells": [
  {
   "cell_type": "markdown",
   "metadata": {},
   "source": [
    "# Выбор локации для скважины"
   ]
  },
  {
   "cell_type": "markdown",
   "metadata": {},
   "source": [
    "Допустим, вы работаете в добывающей компании «ГлавРосГосНефть». Нужно решить, где бурить новую скважину.\n",
    "\n",
    "Вам предоставлены пробы нефти в трёх регионах: в каждом 10 000 месторождений, где измерили качество нефти и объём её запасов. Постройте модель машинного обучения, которая поможет определить регион, где добыча принесёт наибольшую прибыль. Проанализируйте возможную прибыль и риски техникой *Bootstrap.*\n",
    "\n",
    "Шаги для выбора локации:\n",
    "\n",
    "- В избранном регионе ищут месторождения, для каждого определяют значения признаков;\n",
    "- Строят модель и оценивают объём запасов;\n",
    "- Выбирают месторождения с самым высокими оценками значений. Количество месторождений зависит от бюджета компании и стоимости разработки одной скважины;\n",
    "- Прибыль равна суммарной прибыли отобранных месторождений."
   ]
  },
  {
   "cell_type": "markdown",
   "metadata": {},
   "source": [
    "|признак|описание|что будем делать|\n",
    "|--|--|--|\n",
    "|id|уникальный идентификатор скважины|удалим, модели оно не поможет|\n",
    "|f0, f1, f2|три признака точек|по факту `feautures`|\n",
    "|product|объём запасов в скважине|целевой признак `target`|"
   ]
  },
  {
   "cell_type": "markdown",
   "metadata": {},
   "source": [
    "## Загрузка и подготовка данных"
   ]
  },
  {
   "cell_type": "markdown",
   "metadata": {},
   "source": [
    "### Подгрузка библиотек"
   ]
  },
  {
   "cell_type": "code",
   "execution_count": 1,
   "metadata": {},
   "outputs": [],
   "source": [
    "import pandas as pd\n",
    "from sklearn.preprocessing import StandardScaler\n",
    "from sklearn.model_selection import train_test_split\n",
    "from sklearn.linear_model import LinearRegression\n",
    "from sklearn.metrics import mean_squared_error\n",
    "import math\n",
    "import seaborn as sns \n",
    "import matplotlib.pyplot as plt\n",
    "import matplotlib\n",
    "from sklearn.model_selection import cross_val_score\n",
    "matplotlib.style.use('seaborn-pastel')\n",
    "from numpy.random import RandomState \n"
   ]
  },
  {
   "cell_type": "markdown",
   "metadata": {},
   "source": [
    "### Создание класса"
   ]
  },
  {
   "cell_type": "code",
   "execution_count": 2,
   "metadata": {},
   "outputs": [],
   "source": [
    "class Region():\n",
    "    def __init__(self, path, reg_number):\n",
    "        self.path = path\n",
    "        self.reg_number = reg_number\n",
    "        self.read_csv_files(path)\n",
    "        self.metrics = {}\n",
    "        self.business_metrics = {\n",
    "            'Бюджет' : 10_000_000_000,\n",
    "            'Доход с ед.продукции' : 450_000,\n",
    "            'Исследуемые скважины' : 500,\n",
    "            'Потенциально разрабатываемые скважины' : 200           \n",
    "        }\n",
    "    \n",
    "    def read_csv_files(self, path):\n",
    "        try:\n",
    "            self.df = pd.read_csv(path)\n",
    "        except:\n",
    "            self.df = pd.read_csv(f'/datasets/{path}')\n",
    "            \n",
    "    def print_separator(self, text):\n",
    "        '''Ну просто вывести текст... лучше не вникать в код. по сути фигней старадаю'''\n",
    "        len_txt = (80 - len(text)+2)//2\n",
    "        final_txt = '\\n'\n",
    "        if len(text) % 2 == 1:\n",
    "            final_txt += '-'\n",
    "        for _ in range(len_txt):\n",
    "            final_txt += '-'\n",
    "        final_txt += f' {text} {self.reg_number} '\n",
    "        for _ in range(len_txt):\n",
    "            final_txt += '-'\n",
    "        final_txt += '\\n'\n",
    "        print(final_txt)\n",
    "        \n",
    "    def learn_df(self):\n",
    "        '''Метод который выводит основную информацию по первоначальному df\n",
    "        '''\n",
    "        self.print_separator('Регион')\n",
    "        self.df.info()\n",
    "        print()\n",
    "        display(self.df.describe())\n",
    "        self.print_separator('Распределение')\n",
    "        self.df.hist(figsize=(14,7))\n",
    "        plt.show()\n",
    "        print()\n",
    "        self.print_separator('Корреляция')\n",
    "        fig, ax = plt.subplots(figsize=(5,5))\n",
    "        sns.heatmap(self.df.corr(), annot=True, square=True, vmin=-1, vmax=1, center=0, ax=ax)\n",
    "        plt.show()\n",
    "        self.print_separator('Дубликаты')\n",
    "        sum_duplicates = len(self.df[self.df.duplicated(subset=['id'])])\n",
    "        print(f'Кол-во дубликатов: {sum_duplicates}')\n",
    "        display(self.df[self.df.duplicated(subset=['id'], keep=False)].sort_values(by=['id']).head(4))\n",
    "    \n",
    "    def create_model_and_fit(self):\n",
    "        '''Метод для создания модели LinearRegression. Также масштабирует признаки. \n",
    "        Выводит метрику R.M.S.E. а также средний предсказанный и фактический запас нефти \n",
    "        для предсказанных значений.(25% от ген.совокупности)\n",
    "        '''\n",
    "        self.df.drop(columns=['id'], inplace=True)\n",
    "        self.features = self.df.drop(columns=['product']) \n",
    "        self.target = self.df['product']\n",
    "        scaler = StandardScaler() # Масштабируем признаки\n",
    "        scaler.fit(self.features)\n",
    "        scaler.transform(self.features)\n",
    "        self.fit_model() # Обучаем модель и делим на трениров/обучающие выборки\n",
    "        self.print_separator('Регион')\n",
    "        print(f'RMSE модели = {self.metrics[\"R.M.S.E\"]:.2f}')\n",
    "        print(f'Средний предсказанный запас сырья = {self.metrics[\"Предсказанный запас сырья\"]:.2f}')\n",
    "        print(f'Фактический средний запас сырья = {self.metrics[\"Фактический средний запас сырья\"]:.2f}')\n",
    "        \n",
    "    def fit_model(self):\n",
    "        '''Делит выборки на обучающие и тестовые(валидационные), подсчитывает основные метрики\n",
    "        Обучает модель.\n",
    "        '''\n",
    "        self.features_train, self.features_valid, self.target_train, self.target_valid = \\\n",
    "            train_test_split(self.features, self.target, test_size=.25, random_state=333)\n",
    "        self.model = LinearRegression()\n",
    "        self.model.fit(self.features_train, self.target_train)\n",
    "        self.predict = self.model.predict(self.features_valid)\n",
    "        self.predict = pd.Series(self.predict, index=self.target_valid.index)\n",
    "        self.metrics['R.M.S.E'] = math.sqrt(mean_squared_error(self.target_valid, self.predict))\n",
    "        self.metrics['Предсказанный запас сырья'] = self.predict.mean()\n",
    "        self.metrics['Фактический средний запас сырья'] = self.target_valid.mean()\n",
    "        \n",
    "    def calculate_profite(self):\n",
    "        '''Подсчет основных бизнес метрик для 200 лучше всего спрогнозированных месторождений\n",
    "        '''\n",
    "        self.print_separator('Регион')\n",
    "        self.predict_sort = self.predict.sort_values(ascending=False)[:200]\n",
    "        self.sum_fact_oil = self.target_valid[self.predict_sort.index].sum()\n",
    "        self.profit = self.sum_fact_oil * self.business_metrics['Доход с ед.продукции'] / 1_000_000_000 - 10\n",
    "        print(f'Фактический запас нефти из 200 лучше всего спрогнозированных шахт: {self.sum_fact_oil:.2f}')\n",
    "        print(f'Потенциальная прибыль: {self.profit:.2f} млрд. руб')"
   ]
  },
  {
   "cell_type": "code",
   "execution_count": 3,
   "metadata": {},
   "outputs": [],
   "source": [
    "class Business_values():\n",
    "    def __init__(self, region: Region):\n",
    "        self.region = region\n",
    "        self.revenues = [] # Series с прибылью\n",
    "        self.state = RandomState(333)\n",
    "        self.region.print_separator('Регион')\n",
    "        self.bootstrap()\n",
    "\n",
    "    def potencial_revenue(self, target: pd.Series, predict: pd. Series):\n",
    "        '''Подсчитывает прибыль с переданной пары выборок(ц.признак известный/предсказанный)\n",
    "        для лучших 200 предсказанных объектов\n",
    "        Returns: float (прибыль в млрд.)\n",
    "        '''\n",
    "        predict_sorted = predict.sort_values(ascending=False)[:200]\n",
    "        selected_target = target[predict_sorted.index]\n",
    "        return (selected_target.sum() * self.region.business_metrics['Доход с ед.продукции'] - 10**10)/10**9\n",
    "    \n",
    "    def bootstrap(self):\n",
    "        '''Методом bootstrap создает Series с потенциальной прибылью и выводит основные полученные метрики\n",
    "        '''\n",
    "        for _ in range(1000):\n",
    "            target_subsample = self.region.target_valid.sample(n=500, replace=True, random_state=self.state)\n",
    "            predict_subsample = self.region.predict[target_subsample.index]\n",
    "            self.revenues.append(self.potencial_revenue(target=target_subsample, predict=predict_subsample))\n",
    "        self.revenues = pd.Series(self.revenues)    \n",
    "        \n",
    "        print(f'Средняя прибыль: {self.revenues.mean():.2f} млрд.руб')\n",
    "        print(f'2,5%-квантиль: {self.revenues.quantile(0.025):.2f} млрд.руб')\n",
    "        print(f'97,5%-квантиль: {self.revenues.quantile(0.975):.2f} млрд.руб')\n",
    "        print(f'Количество убыточных экспериментов: {len(self.revenues[self.revenues<0])}')\n",
    "        print(f'Вероятность убытков: {(len(self.revenues[self.revenues<0])/len(self.revenues)):.1%}')\n",
    "\n",
    "\n",
    "      "
   ]
  },
  {
   "cell_type": "markdown",
   "metadata": {},
   "source": [
    "### Загрузка и изучение данных"
   ]
  },
  {
   "cell_type": "code",
   "execution_count": 4,
   "metadata": {},
   "outputs": [
    {
     "name": "stdout",
     "output_type": "stream",
     "text": [
      "\n",
      "-------------------------------------- Регион 0 --------------------------------------\n",
      "\n",
      "<class 'pandas.core.frame.DataFrame'>\n",
      "RangeIndex: 100000 entries, 0 to 99999\n",
      "Data columns (total 5 columns):\n",
      " #   Column   Non-Null Count   Dtype  \n",
      "---  ------   --------------   -----  \n",
      " 0   id       100000 non-null  object \n",
      " 1   f0       100000 non-null  float64\n",
      " 2   f1       100000 non-null  float64\n",
      " 3   f2       100000 non-null  float64\n",
      " 4   product  100000 non-null  float64\n",
      "dtypes: float64(4), object(1)\n",
      "memory usage: 3.8+ MB\n",
      "\n"
     ]
    },
    {
     "data": {
      "text/html": [
       "<div>\n",
       "<style scoped>\n",
       "    .dataframe tbody tr th:only-of-type {\n",
       "        vertical-align: middle;\n",
       "    }\n",
       "\n",
       "    .dataframe tbody tr th {\n",
       "        vertical-align: top;\n",
       "    }\n",
       "\n",
       "    .dataframe thead th {\n",
       "        text-align: right;\n",
       "    }\n",
       "</style>\n",
       "<table border=\"1\" class=\"dataframe\">\n",
       "  <thead>\n",
       "    <tr style=\"text-align: right;\">\n",
       "      <th></th>\n",
       "      <th>f0</th>\n",
       "      <th>f1</th>\n",
       "      <th>f2</th>\n",
       "      <th>product</th>\n",
       "    </tr>\n",
       "  </thead>\n",
       "  <tbody>\n",
       "    <tr>\n",
       "      <th>count</th>\n",
       "      <td>100000.000000</td>\n",
       "      <td>100000.000000</td>\n",
       "      <td>100000.000000</td>\n",
       "      <td>100000.000000</td>\n",
       "    </tr>\n",
       "    <tr>\n",
       "      <th>mean</th>\n",
       "      <td>0.500419</td>\n",
       "      <td>0.250143</td>\n",
       "      <td>2.502647</td>\n",
       "      <td>92.500000</td>\n",
       "    </tr>\n",
       "    <tr>\n",
       "      <th>std</th>\n",
       "      <td>0.871832</td>\n",
       "      <td>0.504433</td>\n",
       "      <td>3.248248</td>\n",
       "      <td>44.288691</td>\n",
       "    </tr>\n",
       "    <tr>\n",
       "      <th>min</th>\n",
       "      <td>-1.408605</td>\n",
       "      <td>-0.848218</td>\n",
       "      <td>-12.088328</td>\n",
       "      <td>0.000000</td>\n",
       "    </tr>\n",
       "    <tr>\n",
       "      <th>25%</th>\n",
       "      <td>-0.072580</td>\n",
       "      <td>-0.200881</td>\n",
       "      <td>0.287748</td>\n",
       "      <td>56.497507</td>\n",
       "    </tr>\n",
       "    <tr>\n",
       "      <th>50%</th>\n",
       "      <td>0.502360</td>\n",
       "      <td>0.250252</td>\n",
       "      <td>2.515969</td>\n",
       "      <td>91.849972</td>\n",
       "    </tr>\n",
       "    <tr>\n",
       "      <th>75%</th>\n",
       "      <td>1.073581</td>\n",
       "      <td>0.700646</td>\n",
       "      <td>4.715088</td>\n",
       "      <td>128.564089</td>\n",
       "    </tr>\n",
       "    <tr>\n",
       "      <th>max</th>\n",
       "      <td>2.362331</td>\n",
       "      <td>1.343769</td>\n",
       "      <td>16.003790</td>\n",
       "      <td>185.364347</td>\n",
       "    </tr>\n",
       "  </tbody>\n",
       "</table>\n",
       "</div>"
      ],
      "text/plain": [
       "                  f0             f1             f2        product\n",
       "count  100000.000000  100000.000000  100000.000000  100000.000000\n",
       "mean        0.500419       0.250143       2.502647      92.500000\n",
       "std         0.871832       0.504433       3.248248      44.288691\n",
       "min        -1.408605      -0.848218     -12.088328       0.000000\n",
       "25%        -0.072580      -0.200881       0.287748      56.497507\n",
       "50%         0.502360       0.250252       2.515969      91.849972\n",
       "75%         1.073581       0.700646       4.715088     128.564089\n",
       "max         2.362331       1.343769      16.003790     185.364347"
      ]
     },
     "metadata": {},
     "output_type": "display_data"
    },
    {
     "name": "stdout",
     "output_type": "stream",
     "text": [
      "\n",
      "----------------------------------- Распределение 0 ----------------------------------\n",
      "\n"
     ]
    },
    {
     "data": {
      "image/png": "[encoded data removed]",
      "text/plain": [
       "<Figure size 1008x504 with 4 Axes>"
      ]
     },
     "metadata": {
      "needs_background": "light"
     },
     "output_type": "display_data"
    },
    {
     "name": "stdout",
     "output_type": "stream",
     "text": [
      "\n",
      "\n",
      "------------------------------------ Корреляция 0 ------------------------------------\n",
      "\n"
     ]
    },
    {
     "data": {
      "image/png": "[encoded data removed]",
      "text/plain": [
       "<Figure size 360x360 with 2 Axes>"
      ]
     },
     "metadata": {
      "needs_background": "light"
     },
     "output_type": "display_data"
    },
    {
     "name": "stdout",
     "output_type": "stream",
     "text": [
      "\n",
      "------------------------------------- Дубликаты 0 ------------------------------------\n",
      "\n",
      "Кол-во дубликатов: 10\n"
     ]
    },
    {
     "data": {
      "text/html": [
       "<div>\n",
       "<style scoped>\n",
       "    .dataframe tbody tr th:only-of-type {\n",
       "        vertical-align: middle;\n",
       "    }\n",
       "\n",
       "    .dataframe tbody tr th {\n",
       "        vertical-align: top;\n",
       "    }\n",
       "\n",
       "    .dataframe thead th {\n",
       "        text-align: right;\n",
       "    }\n",
       "</style>\n",
       "<table border=\"1\" class=\"dataframe\">\n",
       "  <thead>\n",
       "    <tr style=\"text-align: right;\">\n",
       "      <th></th>\n",
       "      <th>id</th>\n",
       "      <th>f0</th>\n",
       "      <th>f1</th>\n",
       "      <th>f2</th>\n",
       "      <th>product</th>\n",
       "    </tr>\n",
       "  </thead>\n",
       "  <tbody>\n",
       "    <tr>\n",
       "      <th>66136</th>\n",
       "      <td>74z30</td>\n",
       "      <td>1.084962</td>\n",
       "      <td>-0.312358</td>\n",
       "      <td>6.990771</td>\n",
       "      <td>127.643327</td>\n",
       "    </tr>\n",
       "    <tr>\n",
       "      <th>64022</th>\n",
       "      <td>74z30</td>\n",
       "      <td>0.741456</td>\n",
       "      <td>0.459229</td>\n",
       "      <td>5.153109</td>\n",
       "      <td>140.771492</td>\n",
       "    </tr>\n",
       "    <tr>\n",
       "      <th>51970</th>\n",
       "      <td>A5aEY</td>\n",
       "      <td>-0.180335</td>\n",
       "      <td>0.935548</td>\n",
       "      <td>-2.094773</td>\n",
       "      <td>33.020205</td>\n",
       "    </tr>\n",
       "    <tr>\n",
       "      <th>3389</th>\n",
       "      <td>A5aEY</td>\n",
       "      <td>-0.039949</td>\n",
       "      <td>0.156872</td>\n",
       "      <td>0.209861</td>\n",
       "      <td>89.249364</td>\n",
       "    </tr>\n",
       "  </tbody>\n",
       "</table>\n",
       "</div>"
      ],
      "text/plain": [
       "          id        f0        f1        f2     product\n",
       "66136  74z30  1.084962 -0.312358  6.990771  127.643327\n",
       "64022  74z30  0.741456  0.459229  5.153109  140.771492\n",
       "51970  A5aEY -0.180335  0.935548 -2.094773   33.020205\n",
       "3389   A5aEY -0.039949  0.156872  0.209861   89.249364"
      ]
     },
     "metadata": {},
     "output_type": "display_data"
    },
    {
     "name": "stdout",
     "output_type": "stream",
     "text": [
      "\n",
      "-------------------------------------- Регион 1 --------------------------------------\n",
      "\n",
      "<class 'pandas.core.frame.DataFrame'>\n",
      "RangeIndex: 100000 entries, 0 to 99999\n",
      "Data columns (total 5 columns):\n",
      " #   Column   Non-Null Count   Dtype  \n",
      "---  ------   --------------   -----  \n",
      " 0   id       100000 non-null  object \n",
      " 1   f0       100000 non-null  float64\n",
      " 2   f1       100000 non-null  float64\n",
      " 3   f2       100000 non-null  float64\n",
      " 4   product  100000 non-null  float64\n",
      "dtypes: float64(4), object(1)\n",
      "memory usage: 3.8+ MB\n",
      "\n"
     ]
    },
    {
     "data": {
      "text/html": [
       "<div>\n",
       "<style scoped>\n",
       "    .dataframe tbody tr th:only-of-type {\n",
       "        vertical-align: middle;\n",
       "    }\n",
       "\n",
       "    .dataframe tbody tr th {\n",
       "        vertical-align: top;\n",
       "    }\n",
       "\n",
       "    .dataframe thead th {\n",
       "        text-align: right;\n",
       "    }\n",
       "</style>\n",
       "<table border=\"1\" class=\"dataframe\">\n",
       "  <thead>\n",
       "    <tr style=\"text-align: right;\">\n",
       "      <th></th>\n",
       "      <th>f0</th>\n",
       "      <th>f1</th>\n",
       "      <th>f2</th>\n",
       "      <th>product</th>\n",
       "    </tr>\n",
       "  </thead>\n",
       "  <tbody>\n",
       "    <tr>\n",
       "      <th>count</th>\n",
       "      <td>100000.000000</td>\n",
       "      <td>100000.000000</td>\n",
       "      <td>100000.000000</td>\n",
       "      <td>100000.000000</td>\n",
       "    </tr>\n",
       "    <tr>\n",
       "      <th>mean</th>\n",
       "      <td>1.141296</td>\n",
       "      <td>-4.796579</td>\n",
       "      <td>2.494541</td>\n",
       "      <td>68.825000</td>\n",
       "    </tr>\n",
       "    <tr>\n",
       "      <th>std</th>\n",
       "      <td>8.965932</td>\n",
       "      <td>5.119872</td>\n",
       "      <td>1.703572</td>\n",
       "      <td>45.944423</td>\n",
       "    </tr>\n",
       "    <tr>\n",
       "      <th>min</th>\n",
       "      <td>-31.609576</td>\n",
       "      <td>-26.358598</td>\n",
       "      <td>-0.018144</td>\n",
       "      <td>0.000000</td>\n",
       "    </tr>\n",
       "    <tr>\n",
       "      <th>25%</th>\n",
       "      <td>-6.298551</td>\n",
       "      <td>-8.267985</td>\n",
       "      <td>1.000021</td>\n",
       "      <td>26.953261</td>\n",
       "    </tr>\n",
       "    <tr>\n",
       "      <th>50%</th>\n",
       "      <td>1.153055</td>\n",
       "      <td>-4.813172</td>\n",
       "      <td>2.011479</td>\n",
       "      <td>57.085625</td>\n",
       "    </tr>\n",
       "    <tr>\n",
       "      <th>75%</th>\n",
       "      <td>8.621015</td>\n",
       "      <td>-1.332816</td>\n",
       "      <td>3.999904</td>\n",
       "      <td>107.813044</td>\n",
       "    </tr>\n",
       "    <tr>\n",
       "      <th>max</th>\n",
       "      <td>29.421755</td>\n",
       "      <td>18.734063</td>\n",
       "      <td>5.019721</td>\n",
       "      <td>137.945408</td>\n",
       "    </tr>\n",
       "  </tbody>\n",
       "</table>\n",
       "</div>"
      ],
      "text/plain": [
       "                  f0             f1             f2        product\n",
       "count  100000.000000  100000.000000  100000.000000  100000.000000\n",
       "mean        1.141296      -4.796579       2.494541      68.825000\n",
       "std         8.965932       5.119872       1.703572      45.944423\n",
       "min       -31.609576     -26.358598      -0.018144       0.000000\n",
       "25%        -6.298551      -8.267985       1.000021      26.953261\n",
       "50%         1.153055      -4.813172       2.011479      57.085625\n",
       "75%         8.621015      -1.332816       3.999904     107.813044\n",
       "max        29.421755      18.734063       5.019721     137.945408"
      ]
     },
     "metadata": {},
     "output_type": "display_data"
    },
    {
     "name": "stdout",
     "output_type": "stream",
     "text": [
      "\n",
      "----------------------------------- Распределение 1 ----------------------------------\n",
      "\n"
     ]
    },
    {
     "data": {
      "image/png": "[encoded data removed]",
      "text/plain": [
       "<Figure size 1008x504 with 4 Axes>"
      ]
     },
     "metadata": {
      "needs_background": "light"
     },
     "output_type": "display_data"
    },
    {
     "name": "stdout",
     "output_type": "stream",
     "text": [
      "\n",
      "\n",
      "------------------------------------ Корреляция 1 ------------------------------------\n",
      "\n"
     ]
    },
    {
     "data": {
      "image/png": "[encoded data removed]",
      "text/plain": [
       "<Figure size 360x360 with 2 Axes>"
      ]
     },
     "metadata": {
      "needs_background": "light"
     },
     "output_type": "display_data"
    },
    {
     "name": "stdout",
     "output_type": "stream",
     "text": [
      "\n",
      "------------------------------------- Дубликаты 1 ------------------------------------\n",
      "\n",
      "Кол-во дубликатов: 4\n"
     ]
    },
    {
     "data": {
      "text/html": [
       "<div>\n",
       "<style scoped>\n",
       "    .dataframe tbody tr th:only-of-type {\n",
       "        vertical-align: middle;\n",
       "    }\n",
       "\n",
       "    .dataframe tbody tr th {\n",
       "        vertical-align: top;\n",
       "    }\n",
       "\n",
       "    .dataframe thead th {\n",
       "        text-align: right;\n",
       "    }\n",
       "</style>\n",
       "<table border=\"1\" class=\"dataframe\">\n",
       "  <thead>\n",
       "    <tr style=\"text-align: right;\">\n",
       "      <th></th>\n",
       "      <th>id</th>\n",
       "      <th>f0</th>\n",
       "      <th>f1</th>\n",
       "      <th>f2</th>\n",
       "      <th>product</th>\n",
       "    </tr>\n",
       "  </thead>\n",
       "  <tbody>\n",
       "    <tr>\n",
       "      <th>5849</th>\n",
       "      <td>5ltQ6</td>\n",
       "      <td>-3.435401</td>\n",
       "      <td>-12.296043</td>\n",
       "      <td>1.999796</td>\n",
       "      <td>57.085625</td>\n",
       "    </tr>\n",
       "    <tr>\n",
       "      <th>84461</th>\n",
       "      <td>5ltQ6</td>\n",
       "      <td>18.213839</td>\n",
       "      <td>2.191999</td>\n",
       "      <td>3.993869</td>\n",
       "      <td>107.813044</td>\n",
       "    </tr>\n",
       "    <tr>\n",
       "      <th>1305</th>\n",
       "      <td>LHZR0</td>\n",
       "      <td>11.170835</td>\n",
       "      <td>-1.945066</td>\n",
       "      <td>3.002872</td>\n",
       "      <td>80.859783</td>\n",
       "    </tr>\n",
       "    <tr>\n",
       "      <th>41906</th>\n",
       "      <td>LHZR0</td>\n",
       "      <td>-8.989672</td>\n",
       "      <td>-4.286607</td>\n",
       "      <td>2.009139</td>\n",
       "      <td>57.085625</td>\n",
       "    </tr>\n",
       "  </tbody>\n",
       "</table>\n",
       "</div>"
      ],
      "text/plain": [
       "          id         f0         f1        f2     product\n",
       "5849   5ltQ6  -3.435401 -12.296043  1.999796   57.085625\n",
       "84461  5ltQ6  18.213839   2.191999  3.993869  107.813044\n",
       "1305   LHZR0  11.170835  -1.945066  3.002872   80.859783\n",
       "41906  LHZR0  -8.989672  -4.286607  2.009139   57.085625"
      ]
     },
     "metadata": {},
     "output_type": "display_data"
    },
    {
     "name": "stdout",
     "output_type": "stream",
     "text": [
      "\n",
      "-------------------------------------- Регион 2 --------------------------------------\n",
      "\n",
      "<class 'pandas.core.frame.DataFrame'>\n",
      "RangeIndex: 100000 entries, 0 to 99999\n",
      "Data columns (total 5 columns):\n",
      " #   Column   Non-Null Count   Dtype  \n",
      "---  ------   --------------   -----  \n",
      " 0   id       100000 non-null  object \n",
      " 1   f0       100000 non-null  float64\n",
      " 2   f1       100000 non-null  float64\n",
      " 3   f2       100000 non-null  float64\n",
      " 4   product  100000 non-null  float64\n",
      "dtypes: float64(4), object(1)\n",
      "memory usage: 3.8+ MB\n",
      "\n"
     ]
    },
    {
     "data": {
      "text/html": [
       "<div>\n",
       "<style scoped>\n",
       "    .dataframe tbody tr th:only-of-type {\n",
       "        vertical-align: middle;\n",
       "    }\n",
       "\n",
       "    .dataframe tbody tr th {\n",
       "        vertical-align: top;\n",
       "    }\n",
       "\n",
       "    .dataframe thead th {\n",
       "        text-align: right;\n",
       "    }\n",
       "</style>\n",
       "<table border=\"1\" class=\"dataframe\">\n",
       "  <thead>\n",
       "    <tr style=\"text-align: right;\">\n",
       "      <th></th>\n",
       "      <th>f0</th>\n",
       "      <th>f1</th>\n",
       "      <th>f2</th>\n",
       "      <th>product</th>\n",
       "    </tr>\n",
       "  </thead>\n",
       "  <tbody>\n",
       "    <tr>\n",
       "      <th>count</th>\n",
       "      <td>100000.000000</td>\n",
       "      <td>100000.000000</td>\n",
       "      <td>100000.000000</td>\n",
       "      <td>100000.000000</td>\n",
       "    </tr>\n",
       "    <tr>\n",
       "      <th>mean</th>\n",
       "      <td>0.002023</td>\n",
       "      <td>-0.002081</td>\n",
       "      <td>2.495128</td>\n",
       "      <td>95.000000</td>\n",
       "    </tr>\n",
       "    <tr>\n",
       "      <th>std</th>\n",
       "      <td>1.732045</td>\n",
       "      <td>1.730417</td>\n",
       "      <td>3.473445</td>\n",
       "      <td>44.749921</td>\n",
       "    </tr>\n",
       "    <tr>\n",
       "      <th>min</th>\n",
       "      <td>-8.760004</td>\n",
       "      <td>-7.084020</td>\n",
       "      <td>-11.970335</td>\n",
       "      <td>0.000000</td>\n",
       "    </tr>\n",
       "    <tr>\n",
       "      <th>25%</th>\n",
       "      <td>-1.162288</td>\n",
       "      <td>-1.174820</td>\n",
       "      <td>0.130359</td>\n",
       "      <td>59.450441</td>\n",
       "    </tr>\n",
       "    <tr>\n",
       "      <th>50%</th>\n",
       "      <td>0.009424</td>\n",
       "      <td>-0.009482</td>\n",
       "      <td>2.484236</td>\n",
       "      <td>94.925613</td>\n",
       "    </tr>\n",
       "    <tr>\n",
       "      <th>75%</th>\n",
       "      <td>1.158535</td>\n",
       "      <td>1.163678</td>\n",
       "      <td>4.858794</td>\n",
       "      <td>130.595027</td>\n",
       "    </tr>\n",
       "    <tr>\n",
       "      <th>max</th>\n",
       "      <td>7.238262</td>\n",
       "      <td>7.844801</td>\n",
       "      <td>16.739402</td>\n",
       "      <td>190.029838</td>\n",
       "    </tr>\n",
       "  </tbody>\n",
       "</table>\n",
       "</div>"
      ],
      "text/plain": [
       "                  f0             f1             f2        product\n",
       "count  100000.000000  100000.000000  100000.000000  100000.000000\n",
       "mean        0.002023      -0.002081       2.495128      95.000000\n",
       "std         1.732045       1.730417       3.473445      44.749921\n",
       "min        -8.760004      -7.084020     -11.970335       0.000000\n",
       "25%        -1.162288      -1.174820       0.130359      59.450441\n",
       "50%         0.009424      -0.009482       2.484236      94.925613\n",
       "75%         1.158535       1.163678       4.858794     130.595027\n",
       "max         7.238262       7.844801      16.739402     190.029838"
      ]
     },
     "metadata": {},
     "output_type": "display_data"
    },
    {
     "name": "stdout",
     "output_type": "stream",
     "text": [
      "\n",
      "----------------------------------- Распределение 2 ----------------------------------\n",
      "\n"
     ]
    },
    {
     "data": {
      "image/png": "[encoded data removed]",
      "text/plain": [
       "<Figure size 1008x504 with 4 Axes>"
      ]
     },
     "metadata": {
      "needs_background": "light"
     },
     "output_type": "display_data"
    },
    {
     "name": "stdout",
     "output_type": "stream",
     "text": [
      "\n",
      "\n",
      "------------------------------------ Корреляция 2 ------------------------------------\n",
      "\n"
     ]
    },
    {
     "data": {
      "image/png": "[encoded data removed]",
      "text/plain": [
       "<Figure size 360x360 with 2 Axes>"
      ]
     },
     "metadata": {
      "needs_background": "light"
     },
     "output_type": "display_data"
    },
    {
     "name": "stdout",
     "output_type": "stream",
     "text": [
      "\n",
      "------------------------------------- Дубликаты 2 ------------------------------------\n",
      "\n",
      "Кол-во дубликатов: 4\n"
     ]
    },
    {
     "data": {
      "text/html": [
       "<div>\n",
       "<style scoped>\n",
       "    .dataframe tbody tr th:only-of-type {\n",
       "        vertical-align: middle;\n",
       "    }\n",
       "\n",
       "    .dataframe tbody tr th {\n",
       "        vertical-align: top;\n",
       "    }\n",
       "\n",
       "    .dataframe thead th {\n",
       "        text-align: right;\n",
       "    }\n",
       "</style>\n",
       "<table border=\"1\" class=\"dataframe\">\n",
       "  <thead>\n",
       "    <tr style=\"text-align: right;\">\n",
       "      <th></th>\n",
       "      <th>id</th>\n",
       "      <th>f0</th>\n",
       "      <th>f1</th>\n",
       "      <th>f2</th>\n",
       "      <th>product</th>\n",
       "    </tr>\n",
       "  </thead>\n",
       "  <tbody>\n",
       "    <tr>\n",
       "      <th>45404</th>\n",
       "      <td>KUPhW</td>\n",
       "      <td>0.231846</td>\n",
       "      <td>-1.698941</td>\n",
       "      <td>4.990775</td>\n",
       "      <td>11.716299</td>\n",
       "    </tr>\n",
       "    <tr>\n",
       "      <th>55967</th>\n",
       "      <td>KUPhW</td>\n",
       "      <td>1.211150</td>\n",
       "      <td>3.176408</td>\n",
       "      <td>5.543540</td>\n",
       "      <td>132.831802</td>\n",
       "    </tr>\n",
       "    <tr>\n",
       "      <th>11449</th>\n",
       "      <td>VF7Jo</td>\n",
       "      <td>2.122656</td>\n",
       "      <td>-0.858275</td>\n",
       "      <td>5.746001</td>\n",
       "      <td>181.716817</td>\n",
       "    </tr>\n",
       "    <tr>\n",
       "      <th>49564</th>\n",
       "      <td>VF7Jo</td>\n",
       "      <td>-0.883115</td>\n",
       "      <td>0.560537</td>\n",
       "      <td>0.723601</td>\n",
       "      <td>136.233420</td>\n",
       "    </tr>\n",
       "  </tbody>\n",
       "</table>\n",
       "</div>"
      ],
      "text/plain": [
       "          id        f0        f1        f2     product\n",
       "45404  KUPhW  0.231846 -1.698941  4.990775   11.716299\n",
       "55967  KUPhW  1.211150  3.176408  5.543540  132.831802\n",
       "11449  VF7Jo  2.122656 -0.858275  5.746001  181.716817\n",
       "49564  VF7Jo -0.883115  0.560537  0.723601  136.233420"
      ]
     },
     "metadata": {},
     "output_type": "display_data"
    }
   ],
   "source": [
    "region_0 = Region('geo_data_0.csv', 0)\n",
    "region_1 = Region('geo_data_1.csv', 1)\n",
    "region_2 = Region('geo_data_2.csv', 2)\n",
    "regions_list = [region_0, region_1, region_2]\n",
    "for reg in regions_list:\n",
    "    reg.learn_df()"
   ]
  },
  {
   "cell_type": "markdown",
   "metadata": {},
   "source": [
    "Данные загружены и предварительно изучены.\n",
    "- Есть дубликаты по `id` но при этом значения очень разнятся... удалять не буду.\n",
    "- В регионе с нулевым и вторым индексами наблюдается нормальное распределение признаков и запасов сырья, чего нельзя сказать о втором регионе\n",
    "- Очень интересно что зависимость третьего признака практически линейная с запасами нефти, даже модель не обязательно строить..."
   ]
  },
  {
   "cell_type": "markdown",
   "metadata": {},
   "source": [
    "## Обучение и проверка модели"
   ]
  },
  {
   "cell_type": "code",
   "execution_count": 5,
   "metadata": {},
   "outputs": [
    {
     "name": "stdout",
     "output_type": "stream",
     "text": [
      "\n",
      "-------------------------------------- Регион 0 --------------------------------------\n",
      "\n",
      "RMSE модели = 37.60\n",
      "Средний предсказанный запас сырья = 92.25\n",
      "Фактический средний запас сырья = 92.52\n",
      "\n",
      "-------------------------------------- Регион 1 --------------------------------------\n",
      "\n",
      "RMSE модели = 0.88\n",
      "Средний предсказанный запас сырья = 68.47\n",
      "Фактический средний запас сырья = 68.46\n",
      "\n",
      "-------------------------------------- Регион 2 --------------------------------------\n",
      "\n",
      "RMSE модели = 39.84\n",
      "Средний предсказанный запас сырья = 95.12\n",
      "Фактический средний запас сырья = 95.14\n"
     ]
    }
   ],
   "source": [
    "for reg in regions_list:\n",
    "    reg.create_model_and_fit()"
   ]
  },
  {
   "cell_type": "markdown",
   "metadata": {},
   "source": [
    "- Есть подозрение что практически из-за линейной зависимости, во втором регионе ооочень хорошее качество предсказания.\n",
    "- Интересно что предсказанный запас везде отличается менее чем на 1% по сравнению с фактическим."
   ]
  },
  {
   "cell_type": "markdown",
   "metadata": {},
   "source": [
    "<div class=\"alert alert-block alert-success\">\n",
    "<b>Успех:</b> Шаг проделан лаконично, все нужные метрики посчитаны корректно. \n",
    "</div>"
   ]
  },
  {
   "cell_type": "markdown",
   "metadata": {},
   "source": [
    "## Подготовка к расчёту прибыли"
   ]
  },
  {
   "cell_type": "code",
   "execution_count": 6,
   "metadata": {
    "scrolled": true
   },
   "outputs": [
    {
     "name": "stdout",
     "output_type": "stream",
     "text": [
      "Необходимый запас нефти, для окупаемости скважины: 111.11 тыс. баррелей\n",
      "Средний фактический запас нефти(на 1месторождение) в регионе 0: 92.50 тыс. баррелей\n",
      "Средний фактический запас нефти(на 1месторождение) в регионе 1: 68.83 тыс. баррелей\n",
      "Средний фактический запас нефти(на 1месторождение) в регионе 2: 95.00 тыс. баррелей\n"
     ]
    }
   ],
   "source": [
    "sufficient_level_oil = (\n",
    "    region_0.business_metrics['Бюджет'] / \\\n",
    "    region_0.business_metrics['Потенциально разрабатываемые скважины']) / \\\n",
    "    region_0.business_metrics['Доход с ед.продукции']\n",
    "print(f'Необходимый запас нефти, для окупаемости скважины: {sufficient_level_oil:.2f} тыс. баррелей')\n",
    "for reg in regions_list:\n",
    "    print(f'Средний фактический запас нефти(на 1месторождение) в регионе {reg.reg_number}: {reg.df[\"product\"].mean():.2f} тыс. баррелей')\n"
   ]
  },
  {
   "cell_type": "code",
   "execution_count": 7,
   "metadata": {},
   "outputs": [
    {
     "name": "stdout",
     "output_type": "stream",
     "text": [
      "\n",
      "-------------------------------------- Регион 0 --------------------------------------\n",
      "\n",
      "Фактический запас нефти из 200 лучше всего спрогнозированных шахт: 29518.90\n",
      "Потенциальная прибыль: 3.28 млрд. руб\n",
      "\n",
      "-------------------------------------- Регион 1 --------------------------------------\n",
      "\n",
      "Фактический запас нефти из 200 лучше всего спрогнозированных шахт: 27589.08\n",
      "Потенциальная прибыль: 2.42 млрд. руб\n",
      "\n",
      "-------------------------------------- Регион 2 --------------------------------------\n",
      "\n",
      "Фактический запас нефти из 200 лучше всего спрогнозированных шахт: 27668.40\n",
      "Потенциальная прибыль: 2.45 млрд. руб\n"
     ]
    }
   ],
   "source": [
    "for reg in regions_list:\n",
    "    reg.calculate_profite()"
   ]
  },
  {
   "cell_type": "markdown",
   "metadata": {},
   "source": [
    "На вид, примерно одинаковое распределение, необходимо провести стат. тесты"
   ]
  },
  {
   "cell_type": "markdown",
   "metadata": {},
   "source": [
    "## Расчёт прибыли и рисков "
   ]
  },
  {
   "cell_type": "code",
   "execution_count": 8,
   "metadata": {
    "scrolled": true
   },
   "outputs": [
    {
     "name": "stdout",
     "output_type": "stream",
     "text": [
      "\n",
      "-------------------------------------- Регион 0 --------------------------------------\n",
      "\n",
      "Средняя прибыль: 0.62 млрд.руб\n",
      "2,5%-квантиль: 0.02 млрд.руб\n",
      "97,5%-квантиль: 1.24 млрд.руб\n",
      "Количество убыточных экспериментов: 19\n",
      "Вероятность убытков: 1.9%\n",
      "\n",
      "-------------------------------------- Регион 1 --------------------------------------\n",
      "\n",
      "Средняя прибыль: 0.64 млрд.руб\n",
      "2,5%-квантиль: 0.15 млрд.руб\n",
      "97,5%-квантиль: 1.16 млрд.руб\n",
      "Количество убыточных экспериментов: 3\n",
      "Вероятность убытков: 0.3%\n",
      "\n",
      "-------------------------------------- Регион 2 --------------------------------------\n",
      "\n",
      "Средняя прибыль: 0.56 млрд.руб\n",
      "2,5%-квантиль: -0.04 млрд.руб\n",
      "97,5%-квантиль: 1.17 млрд.руб\n",
      "Количество убыточных экспериментов: 30\n",
      "Вероятность убытков: 3.0%\n"
     ]
    }
   ],
   "source": [
    "for reg in regions_list:\n",
    "    Business_values(reg)"
   ]
  },
  {
   "cell_type": "markdown",
   "metadata": {},
   "source": [
    "### Вывод"
   ]
  },
  {
   "cell_type": "markdown",
   "metadata": {},
   "source": [
    "- Не смотря на наименьшее запасов нефти, регион с индексом № 1 является более прибыльным, в первую очередь можно предположить, что это связано с высоким качеством предсказания модели.\n",
    "- Также стоит отметить что, если удастся улучшить качество модели предсказания, то больший потенциал имеет регион № 0"
   ]
  }
 ],
 "metadata": {
  "kernelspec": {
   "display_name": "Python 3 (ipykernel)",
   "language": "python",
   "name": "python3"
  },
  "language_info": {
   "codemirror_mode": {
    "name": "ipython",
    "version": 3
   },
   "file_extension": ".py",
   "mimetype": "text/x-python",
   "name": "python",
   "nbconvert_exporter": "python",
   "pygments_lexer": "ipython3",
   "version": "3.10.4"
  },
  "toc": {
   "base_numbering": 1,
   "nav_menu": {},
   "number_sections": true,
   "sideBar": true,
   "skip_h1_title": true,
   "title_cell": "Table of Contents",
   "title_sidebar": "Contents",
   "toc_cell": false,
   "toc_position": {},
   "toc_section_display": true,
   "toc_window_display": false
  }
 },
 "nbformat": 4,
 "nbformat_minor": 2
}
